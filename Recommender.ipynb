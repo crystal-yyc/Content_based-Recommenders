{
 "metadata": {
  "language_info": {
   "codemirror_mode": {
    "name": "ipython",
    "version": 3
   },
   "file_extension": ".py",
   "mimetype": "text/x-python",
   "name": "python",
   "nbconvert_exporter": "python",
   "pygments_lexer": "ipython3",
   "version": "3.8.3-final"
  },
  "orig_nbformat": 2,
  "kernelspec": {
   "name": "python36564bit6f77634e2dab4869b7bf6615e97ce046",
   "display_name": "Python 3.6.5 64-bit",
   "language": "python"
  }
 },
 "nbformat": 4,
 "nbformat_minor": 2,
 "cells": [
  {
   "cell_type": "code",
   "execution_count": 255,
   "metadata": {},
   "outputs": [],
   "source": [
    "import pandas as pd \n",
    "import numpy as np \n",
    "import matplotlib.pyplot as plt \n",
    "import seaborn as sns\n",
    "from rake_nltk import Rake # used to extract the key words from the description\n",
    "from sklearn.metrics.pairwise import cosine_similarity\n",
    "from sklearn.feature_extraction.text import CountVectorizer, TfidfVectorizer\n",
    "from sklearn.metrics.pairwise import linear_kernel\n",
    "import string as str"
   ]
  },
  {
   "cell_type": "code",
   "execution_count": 256,
   "metadata": {},
   "outputs": [
    {
     "output_type": "execute_result",
     "data": {
      "text/plain": [
       "    show_id     type                                    title  \\\n",
       "0  81145628    Movie  Norm of the North: King Sized Adventure   \n",
       "1  80117401    Movie               Jandino: Whatever it Takes   \n",
       "2  70234439  TV Show                       Transformers Prime   \n",
       "3  80058654  TV Show         Transformers: Robots in Disguise   \n",
       "4  80125979    Movie                             #realityhigh   \n",
       "\n",
       "                   director  \\\n",
       "0  Richard Finn, Tim Maltby   \n",
       "1                       NaN   \n",
       "2                       NaN   \n",
       "3                       NaN   \n",
       "4          Fernando Lebrija   \n",
       "\n",
       "                                                cast  \\\n",
       "0  Alan Marriott, Andrew Toth, Brian Dobson, Cole...   \n",
       "1                                   Jandino Asporaat   \n",
       "2  Peter Cullen, Sumalee Montano, Frank Welker, J...   \n",
       "3  Will Friedle, Darren Criss, Constance Zimmer, ...   \n",
       "4  Nesta Cooper, Kate Walsh, John Michael Higgins...   \n",
       "\n",
       "                                    country         date_added  release_year  \\\n",
       "0  United States, India, South Korea, China  September 9, 2019          2019   \n",
       "1                            United Kingdom  September 9, 2016          2016   \n",
       "2                             United States  September 8, 2018          2013   \n",
       "3                             United States  September 8, 2018          2016   \n",
       "4                             United States  September 8, 2017          2017   \n",
       "\n",
       "     rating  duration                           listed_in  \\\n",
       "0     TV-PG    90 min  Children & Family Movies, Comedies   \n",
       "1     TV-MA    94 min                     Stand-Up Comedy   \n",
       "2  TV-Y7-FV  1 Season                            Kids' TV   \n",
       "3     TV-Y7  1 Season                            Kids' TV   \n",
       "4     TV-14    99 min                            Comedies   \n",
       "\n",
       "                                         description  \n",
       "0  Before planning an awesome wedding for his gra...  \n",
       "1  Jandino Asporaat riffs on the challenges of ra...  \n",
       "2  With the help of three human allies, the Autob...  \n",
       "3  When a prison ship crash unleashes hundreds of...  \n",
       "4  When nerdy high schooler Dani finally attracts...  "
      ],
      "text/html": "<div>\n<style scoped>\n    .dataframe tbody tr th:only-of-type {\n        vertical-align: middle;\n    }\n\n    .dataframe tbody tr th {\n        vertical-align: top;\n    }\n\n    .dataframe thead th {\n        text-align: right;\n    }\n</style>\n<table border=\"1\" class=\"dataframe\">\n  <thead>\n    <tr style=\"text-align: right;\">\n      <th></th>\n      <th>show_id</th>\n      <th>type</th>\n      <th>title</th>\n      <th>director</th>\n      <th>cast</th>\n      <th>country</th>\n      <th>date_added</th>\n      <th>release_year</th>\n      <th>rating</th>\n      <th>duration</th>\n      <th>listed_in</th>\n      <th>description</th>\n    </tr>\n  </thead>\n  <tbody>\n    <tr>\n      <th>0</th>\n      <td>81145628</td>\n      <td>Movie</td>\n      <td>Norm of the North: King Sized Adventure</td>\n      <td>Richard Finn, Tim Maltby</td>\n      <td>Alan Marriott, Andrew Toth, Brian Dobson, Cole...</td>\n      <td>United States, India, South Korea, China</td>\n      <td>September 9, 2019</td>\n      <td>2019</td>\n      <td>TV-PG</td>\n      <td>90 min</td>\n      <td>Children &amp; Family Movies, Comedies</td>\n      <td>Before planning an awesome wedding for his gra...</td>\n    </tr>\n    <tr>\n      <th>1</th>\n      <td>80117401</td>\n      <td>Movie</td>\n      <td>Jandino: Whatever it Takes</td>\n      <td>NaN</td>\n      <td>Jandino Asporaat</td>\n      <td>United Kingdom</td>\n      <td>September 9, 2016</td>\n      <td>2016</td>\n      <td>TV-MA</td>\n      <td>94 min</td>\n      <td>Stand-Up Comedy</td>\n      <td>Jandino Asporaat riffs on the challenges of ra...</td>\n    </tr>\n    <tr>\n      <th>2</th>\n      <td>70234439</td>\n      <td>TV Show</td>\n      <td>Transformers Prime</td>\n      <td>NaN</td>\n      <td>Peter Cullen, Sumalee Montano, Frank Welker, J...</td>\n      <td>United States</td>\n      <td>September 8, 2018</td>\n      <td>2013</td>\n      <td>TV-Y7-FV</td>\n      <td>1 Season</td>\n      <td>Kids' TV</td>\n      <td>With the help of three human allies, the Autob...</td>\n    </tr>\n    <tr>\n      <th>3</th>\n      <td>80058654</td>\n      <td>TV Show</td>\n      <td>Transformers: Robots in Disguise</td>\n      <td>NaN</td>\n      <td>Will Friedle, Darren Criss, Constance Zimmer, ...</td>\n      <td>United States</td>\n      <td>September 8, 2018</td>\n      <td>2016</td>\n      <td>TV-Y7</td>\n      <td>1 Season</td>\n      <td>Kids' TV</td>\n      <td>When a prison ship crash unleashes hundreds of...</td>\n    </tr>\n    <tr>\n      <th>4</th>\n      <td>80125979</td>\n      <td>Movie</td>\n      <td>#realityhigh</td>\n      <td>Fernando Lebrija</td>\n      <td>Nesta Cooper, Kate Walsh, John Michael Higgins...</td>\n      <td>United States</td>\n      <td>September 8, 2017</td>\n      <td>2017</td>\n      <td>TV-14</td>\n      <td>99 min</td>\n      <td>Comedies</td>\n      <td>When nerdy high schooler Dani finally attracts...</td>\n    </tr>\n  </tbody>\n</table>\n</div>"
     },
     "metadata": {},
     "execution_count": 256
    }
   ],
   "source": [
    "data=pd.read_csv('netflix_titles.csv')\n",
    "data.head()"
   ]
  },
  {
   "cell_type": "code",
   "execution_count": 257,
   "metadata": {},
   "outputs": [
    {
     "output_type": "stream",
     "name": "stdout",
     "text": [
      "<class 'pandas.core.frame.DataFrame'>\nRangeIndex: 6234 entries, 0 to 6233\nData columns (total 12 columns):\n #   Column        Non-Null Count  Dtype \n---  ------        --------------  ----- \n 0   show_id       6234 non-null   int64 \n 1   type          6234 non-null   object\n 2   title         6234 non-null   object\n 3   director      4265 non-null   object\n 4   cast          5664 non-null   object\n 5   country       5758 non-null   object\n 6   date_added    6223 non-null   object\n 7   release_year  6234 non-null   int64 \n 8   rating        6224 non-null   object\n 9   duration      6234 non-null   object\n 10  listed_in     6234 non-null   object\n 11  description   6234 non-null   object\ndtypes: int64(2), object(10)\nmemory usage: 584.6+ KB\n"
     ]
    }
   ],
   "source": [
    "# data inspection\n",
    "data.info()"
   ]
  },
  {
   "cell_type": "code",
   "execution_count": 258,
   "metadata": {},
   "outputs": [
    {
     "output_type": "execute_result",
     "data": {
      "text/plain": [
       "       show_id     type                                        title  \\\n",
       "0     81145628    Movie      Norm of the North: King Sized Adventure   \n",
       "1     80117401    Movie                   Jandino: Whatever it Takes   \n",
       "2     70234439  TV Show                           Transformers Prime   \n",
       "3     80058654  TV Show             Transformers: Robots in Disguise   \n",
       "4     80125979    Movie                                 #realityhigh   \n",
       "...        ...      ...                                          ...   \n",
       "6229  80000063  TV Show                                 Red vs. Blue   \n",
       "6230  70286564  TV Show                                        Maron   \n",
       "6231  80116008    Movie       Little Baby Bum: Nursery Rhyme Friends   \n",
       "6232  70281022  TV Show  A Young Doctor's Notebook and Other Stories   \n",
       "6233  70153404  TV Show                                      Friends   \n",
       "\n",
       "                      director  \\\n",
       "0     Richard Finn, Tim Maltby   \n",
       "1                          NaN   \n",
       "2                          NaN   \n",
       "3                          NaN   \n",
       "4             Fernando Lebrija   \n",
       "...                        ...   \n",
       "6229                       NaN   \n",
       "6230                       NaN   \n",
       "6231                       NaN   \n",
       "6232                       NaN   \n",
       "6233                       NaN   \n",
       "\n",
       "                                                   cast  \\\n",
       "0     Alan Marriott, Andrew Toth, Brian Dobson, Cole...   \n",
       "1                                      Jandino Asporaat   \n",
       "2     Peter Cullen, Sumalee Montano, Frank Welker, J...   \n",
       "3     Will Friedle, Darren Criss, Constance Zimmer, ...   \n",
       "4     Nesta Cooper, Kate Walsh, John Michael Higgins...   \n",
       "...                                                 ...   \n",
       "6229  Burnie Burns, Jason Saldaña, Gustavo Sorola, G...   \n",
       "6230  Marc Maron, Judd Hirsch, Josh Brener, Nora Zeh...   \n",
       "6231                                                NaN   \n",
       "6232  Daniel Radcliffe, Jon Hamm, Adam Godley, Chris...   \n",
       "6233  Jennifer Aniston, Courteney Cox, Lisa Kudrow, ...   \n",
       "\n",
       "                                       country         date_added  \\\n",
       "0     United States, India, South Korea, China  September 9, 2019   \n",
       "1                               United Kingdom  September 9, 2016   \n",
       "2                                United States  September 8, 2018   \n",
       "3                                United States  September 8, 2018   \n",
       "4                                United States  September 8, 2017   \n",
       "...                                        ...                ...   \n",
       "6229                             United States                NaN   \n",
       "6230                             United States                NaN   \n",
       "6231                                       NaN                NaN   \n",
       "6232                            United Kingdom                NaN   \n",
       "6233                             United States                NaN   \n",
       "\n",
       "      release_year    rating    duration  \\\n",
       "0             2019     TV-PG      90 min   \n",
       "1             2016     TV-MA      94 min   \n",
       "2             2013  TV-Y7-FV    1 Season   \n",
       "3             2016     TV-Y7    1 Season   \n",
       "4             2017     TV-14      99 min   \n",
       "...            ...       ...         ...   \n",
       "6229          2015        NR  13 Seasons   \n",
       "6230          2016     TV-MA   4 Seasons   \n",
       "6231          2016       NaN      60 min   \n",
       "6232          2013     TV-MA   2 Seasons   \n",
       "6233          2003     TV-14  10 Seasons   \n",
       "\n",
       "                                              listed_in  \\\n",
       "0                    Children & Family Movies, Comedies   \n",
       "1                                       Stand-Up Comedy   \n",
       "2                                              Kids' TV   \n",
       "3                                              Kids' TV   \n",
       "4                                              Comedies   \n",
       "...                                                 ...   \n",
       "6229  TV Action & Adventure, TV Comedies, TV Sci-Fi ...   \n",
       "6230                                        TV Comedies   \n",
       "6231                                             Movies   \n",
       "6232           British TV Shows, TV Comedies, TV Dramas   \n",
       "6233                     Classic & Cult TV, TV Comedies   \n",
       "\n",
       "                                            description  \\\n",
       "0     Before planning an awesome wedding for his gra...   \n",
       "1     Jandino Asporaat riffs on the challenges of ra...   \n",
       "2     With the help of three human allies, the Autob...   \n",
       "3     When a prison ship crash unleashes hundreds of...   \n",
       "4     When nerdy high schooler Dani finally attracts...   \n",
       "...                                                 ...   \n",
       "6229  This parody of first-person shooter games, mil...   \n",
       "6230  Marc Maron stars as Marc Maron, who interviews...   \n",
       "6231  Nursery rhymes and original music for children...   \n",
       "6232  Set during the Russian Revolution, this comic ...   \n",
       "6233  This hit sitcom follows the merry misadventure...   \n",
       "\n",
       "                                              key_words  \n",
       "0     [polar bear king must take back, evil archaeol...  \n",
       "1     [jandino asporaat riffs, rousing rendition, ra...  \n",
       "2     [three human allies, protect earth, onslaught,...  \n",
       "3     [prison ship crash unleashes hundreds, new aut...  \n",
       "4     [nerdy high schooler dani finally attracts, so...  \n",
       "...                                                 ...  \n",
       "6229  [person shooter games, fiction films centers, ...  \n",
       "6230  [interviews fellow comedians, marc maron stars...  \n",
       "6231  [playful animation engage, original music, nur...  \n",
       "6232  [early career working, way village, russian re...  \n",
       "6233  [hit sitcom follows, something pals, six 20, m...  \n",
       "\n",
       "[6234 rows x 13 columns]"
      ],
      "text/html": "<div>\n<style scoped>\n    .dataframe tbody tr th:only-of-type {\n        vertical-align: middle;\n    }\n\n    .dataframe tbody tr th {\n        vertical-align: top;\n    }\n\n    .dataframe thead th {\n        text-align: right;\n    }\n</style>\n<table border=\"1\" class=\"dataframe\">\n  <thead>\n    <tr style=\"text-align: right;\">\n      <th></th>\n      <th>show_id</th>\n      <th>type</th>\n      <th>title</th>\n      <th>director</th>\n      <th>cast</th>\n      <th>country</th>\n      <th>date_added</th>\n      <th>release_year</th>\n      <th>rating</th>\n      <th>duration</th>\n      <th>listed_in</th>\n      <th>description</th>\n      <th>key_words</th>\n    </tr>\n  </thead>\n  <tbody>\n    <tr>\n      <th>0</th>\n      <td>81145628</td>\n      <td>Movie</td>\n      <td>Norm of the North: King Sized Adventure</td>\n      <td>Richard Finn, Tim Maltby</td>\n      <td>Alan Marriott, Andrew Toth, Brian Dobson, Cole...</td>\n      <td>United States, India, South Korea, China</td>\n      <td>September 9, 2019</td>\n      <td>2019</td>\n      <td>TV-PG</td>\n      <td>90 min</td>\n      <td>Children &amp; Family Movies, Comedies</td>\n      <td>Before planning an awesome wedding for his gra...</td>\n      <td>[polar bear king must take back, evil archaeol...</td>\n    </tr>\n    <tr>\n      <th>1</th>\n      <td>80117401</td>\n      <td>Movie</td>\n      <td>Jandino: Whatever it Takes</td>\n      <td>NaN</td>\n      <td>Jandino Asporaat</td>\n      <td>United Kingdom</td>\n      <td>September 9, 2016</td>\n      <td>2016</td>\n      <td>TV-MA</td>\n      <td>94 min</td>\n      <td>Stand-Up Comedy</td>\n      <td>Jandino Asporaat riffs on the challenges of ra...</td>\n      <td>[jandino asporaat riffs, rousing rendition, ra...</td>\n    </tr>\n    <tr>\n      <th>2</th>\n      <td>70234439</td>\n      <td>TV Show</td>\n      <td>Transformers Prime</td>\n      <td>NaN</td>\n      <td>Peter Cullen, Sumalee Montano, Frank Welker, J...</td>\n      <td>United States</td>\n      <td>September 8, 2018</td>\n      <td>2013</td>\n      <td>TV-Y7-FV</td>\n      <td>1 Season</td>\n      <td>Kids' TV</td>\n      <td>With the help of three human allies, the Autob...</td>\n      <td>[three human allies, protect earth, onslaught,...</td>\n    </tr>\n    <tr>\n      <th>3</th>\n      <td>80058654</td>\n      <td>TV Show</td>\n      <td>Transformers: Robots in Disguise</td>\n      <td>NaN</td>\n      <td>Will Friedle, Darren Criss, Constance Zimmer, ...</td>\n      <td>United States</td>\n      <td>September 8, 2018</td>\n      <td>2016</td>\n      <td>TV-Y7</td>\n      <td>1 Season</td>\n      <td>Kids' TV</td>\n      <td>When a prison ship crash unleashes hundreds of...</td>\n      <td>[prison ship crash unleashes hundreds, new aut...</td>\n    </tr>\n    <tr>\n      <th>4</th>\n      <td>80125979</td>\n      <td>Movie</td>\n      <td>#realityhigh</td>\n      <td>Fernando Lebrija</td>\n      <td>Nesta Cooper, Kate Walsh, John Michael Higgins...</td>\n      <td>United States</td>\n      <td>September 8, 2017</td>\n      <td>2017</td>\n      <td>TV-14</td>\n      <td>99 min</td>\n      <td>Comedies</td>\n      <td>When nerdy high schooler Dani finally attracts...</td>\n      <td>[nerdy high schooler dani finally attracts, so...</td>\n    </tr>\n    <tr>\n      <th>...</th>\n      <td>...</td>\n      <td>...</td>\n      <td>...</td>\n      <td>...</td>\n      <td>...</td>\n      <td>...</td>\n      <td>...</td>\n      <td>...</td>\n      <td>...</td>\n      <td>...</td>\n      <td>...</td>\n      <td>...</td>\n      <td>...</td>\n    </tr>\n    <tr>\n      <th>6229</th>\n      <td>80000063</td>\n      <td>TV Show</td>\n      <td>Red vs. Blue</td>\n      <td>NaN</td>\n      <td>Burnie Burns, Jason Saldaña, Gustavo Sorola, G...</td>\n      <td>United States</td>\n      <td>NaN</td>\n      <td>2015</td>\n      <td>NR</td>\n      <td>13 Seasons</td>\n      <td>TV Action &amp; Adventure, TV Comedies, TV Sci-Fi ...</td>\n      <td>This parody of first-person shooter games, mil...</td>\n      <td>[person shooter games, fiction films centers, ...</td>\n    </tr>\n    <tr>\n      <th>6230</th>\n      <td>70286564</td>\n      <td>TV Show</td>\n      <td>Maron</td>\n      <td>NaN</td>\n      <td>Marc Maron, Judd Hirsch, Josh Brener, Nora Zeh...</td>\n      <td>United States</td>\n      <td>NaN</td>\n      <td>2016</td>\n      <td>TV-MA</td>\n      <td>4 Seasons</td>\n      <td>TV Comedies</td>\n      <td>Marc Maron stars as Marc Maron, who interviews...</td>\n      <td>[interviews fellow comedians, marc maron stars...</td>\n    </tr>\n    <tr>\n      <th>6231</th>\n      <td>80116008</td>\n      <td>Movie</td>\n      <td>Little Baby Bum: Nursery Rhyme Friends</td>\n      <td>NaN</td>\n      <td>NaN</td>\n      <td>NaN</td>\n      <td>NaN</td>\n      <td>2016</td>\n      <td>NaN</td>\n      <td>60 min</td>\n      <td>Movies</td>\n      <td>Nursery rhymes and original music for children...</td>\n      <td>[playful animation engage, original music, nur...</td>\n    </tr>\n    <tr>\n      <th>6232</th>\n      <td>70281022</td>\n      <td>TV Show</td>\n      <td>A Young Doctor's Notebook and Other Stories</td>\n      <td>NaN</td>\n      <td>Daniel Radcliffe, Jon Hamm, Adam Godley, Chris...</td>\n      <td>United Kingdom</td>\n      <td>NaN</td>\n      <td>2013</td>\n      <td>TV-MA</td>\n      <td>2 Seasons</td>\n      <td>British TV Shows, TV Comedies, TV Dramas</td>\n      <td>Set during the Russian Revolution, this comic ...</td>\n      <td>[early career working, way village, russian re...</td>\n    </tr>\n    <tr>\n      <th>6233</th>\n      <td>70153404</td>\n      <td>TV Show</td>\n      <td>Friends</td>\n      <td>NaN</td>\n      <td>Jennifer Aniston, Courteney Cox, Lisa Kudrow, ...</td>\n      <td>United States</td>\n      <td>NaN</td>\n      <td>2003</td>\n      <td>TV-14</td>\n      <td>10 Seasons</td>\n      <td>Classic &amp; Cult TV, TV Comedies</td>\n      <td>This hit sitcom follows the merry misadventure...</td>\n      <td>[hit sitcom follows, something pals, six 20, m...</td>\n    </tr>\n  </tbody>\n</table>\n<p>6234 rows × 13 columns</p>\n</div>"
     },
     "metadata": {},
     "execution_count": 258
    }
   ],
   "source": [
    "# Data Cleaning:  create a new column to extract the key words from description ('Rake')\n",
    "r=Rake()\n",
    "def rake(x):\n",
    "    r.extract_keywords_from_text(x)\n",
    "    return r.get_ranked_phrases()\n",
    "data['key_words']=data['description'].apply(lambda i: rake(i))\n",
    "data\n"
   ]
  },
  {
   "cell_type": "code",
   "execution_count": 259,
   "metadata": {},
   "outputs": [],
   "source": [
    "def cleaning_text(words):  #remove the punctuation and conver to lower case\n",
    "    words=' '.join(word.lower() for word in words if (word not in str.punctuation))\n",
    "    return words "
   ]
  },
  {
   "cell_type": "code",
   "execution_count": 260,
   "metadata": {},
   "outputs": [],
   "source": [
    "df=data.copy()"
   ]
  },
  {
   "cell_type": "code",
   "execution_count": 261,
   "metadata": {},
   "outputs": [
    {
     "output_type": "execute_result",
     "data": {
      "text/plain": [
       "       show_id     type                                        title  \\\n",
       "0     81145628    Movie      Norm of the North: King Sized Adventure   \n",
       "1     80117401    Movie                   Jandino: Whatever it Takes   \n",
       "2     70234439  TV Show                           Transformers Prime   \n",
       "3     80058654  TV Show             Transformers: Robots in Disguise   \n",
       "4     80125979    Movie                                 #realityhigh   \n",
       "...        ...      ...                                          ...   \n",
       "6229  80000063  TV Show                                 Red vs. Blue   \n",
       "6230  70286564  TV Show                                        Maron   \n",
       "6231  80116008    Movie       Little Baby Bum: Nursery Rhyme Friends   \n",
       "6232  70281022  TV Show  A Young Doctor's Notebook and Other Stories   \n",
       "6233  70153404  TV Show                                      Friends   \n",
       "\n",
       "                      director  \\\n",
       "0     Richard Finn, Tim Maltby   \n",
       "1                          NaN   \n",
       "2                          NaN   \n",
       "3                          NaN   \n",
       "4             Fernando Lebrija   \n",
       "...                        ...   \n",
       "6229                       NaN   \n",
       "6230                       NaN   \n",
       "6231                       NaN   \n",
       "6232                       NaN   \n",
       "6233                       NaN   \n",
       "\n",
       "                                                   cast  \\\n",
       "0     Alan Marriott, Andrew Toth, Brian Dobson, Cole...   \n",
       "1                                      Jandino Asporaat   \n",
       "2     Peter Cullen, Sumalee Montano, Frank Welker, J...   \n",
       "3     Will Friedle, Darren Criss, Constance Zimmer, ...   \n",
       "4     Nesta Cooper, Kate Walsh, John Michael Higgins...   \n",
       "...                                                 ...   \n",
       "6229  Burnie Burns, Jason Saldaña, Gustavo Sorola, G...   \n",
       "6230  Marc Maron, Judd Hirsch, Josh Brener, Nora Zeh...   \n",
       "6231                                                NaN   \n",
       "6232  Daniel Radcliffe, Jon Hamm, Adam Godley, Chris...   \n",
       "6233  Jennifer Aniston, Courteney Cox, Lisa Kudrow, ...   \n",
       "\n",
       "                                       country         date_added  \\\n",
       "0     United States, India, South Korea, China  September 9, 2019   \n",
       "1                               United Kingdom  September 9, 2016   \n",
       "2                                United States  September 8, 2018   \n",
       "3                                United States  September 8, 2018   \n",
       "4                                United States  September 8, 2017   \n",
       "...                                        ...                ...   \n",
       "6229                             United States                NaN   \n",
       "6230                             United States                NaN   \n",
       "6231                                       NaN                NaN   \n",
       "6232                            United Kingdom                NaN   \n",
       "6233                             United States                NaN   \n",
       "\n",
       "      release_year    rating    duration  \\\n",
       "0             2019     TV-PG      90 min   \n",
       "1             2016     TV-MA      94 min   \n",
       "2             2013  TV-Y7-FV    1 Season   \n",
       "3             2016     TV-Y7    1 Season   \n",
       "4             2017     TV-14      99 min   \n",
       "...            ...       ...         ...   \n",
       "6229          2015        NR  13 Seasons   \n",
       "6230          2016     TV-MA   4 Seasons   \n",
       "6231          2016       NaN      60 min   \n",
       "6232          2013     TV-MA   2 Seasons   \n",
       "6233          2003     TV-14  10 Seasons   \n",
       "\n",
       "                                              listed_in  \\\n",
       "0                    Children & Family Movies, Comedies   \n",
       "1                                       Stand-Up Comedy   \n",
       "2                                              Kids' TV   \n",
       "3                                              Kids' TV   \n",
       "4                                              Comedies   \n",
       "...                                                 ...   \n",
       "6229  TV Action & Adventure, TV Comedies, TV Sci-Fi ...   \n",
       "6230                                        TV Comedies   \n",
       "6231                                             Movies   \n",
       "6232           British TV Shows, TV Comedies, TV Dramas   \n",
       "6233                     Classic & Cult TV, TV Comedies   \n",
       "\n",
       "                                            description  \\\n",
       "0     Before planning an awesome wedding for his gra...   \n",
       "1     Jandino Asporaat riffs on the challenges of ra...   \n",
       "2     With the help of three human allies, the Autob...   \n",
       "3     When a prison ship crash unleashes hundreds of...   \n",
       "4     When nerdy high schooler Dani finally attracts...   \n",
       "...                                                 ...   \n",
       "6229  This parody of first-person shooter games, mil...   \n",
       "6230  Marc Maron stars as Marc Maron, who interviews...   \n",
       "6231  Nursery rhymes and original music for children...   \n",
       "6232  Set during the Russian Revolution, this comic ...   \n",
       "6233  This hit sitcom follows the merry misadventure...   \n",
       "\n",
       "                                              key_words  \n",
       "0     polar bear king must take back evil archaeolog...  \n",
       "1     jandino asporaat riffs rousing rendition raisi...  \n",
       "2     three human allies protect earth onslaught meg...  \n",
       "3     prison ship crash unleashes hundreds new autob...  \n",
       "4     nerdy high schooler dani finally attracts soci...  \n",
       "...                                                 ...  \n",
       "6229  person shooter games fiction films centers civ...  \n",
       "6230  interviews fellow comedians marc maron stars m...  \n",
       "6231  playful animation engage original music nurser...  \n",
       "6232  early career working way village russian revol...  \n",
       "6233  hit sitcom follows something pals six 20 merry...  \n",
       "\n",
       "[6234 rows x 13 columns]"
      ],
      "text/html": "<div>\n<style scoped>\n    .dataframe tbody tr th:only-of-type {\n        vertical-align: middle;\n    }\n\n    .dataframe tbody tr th {\n        vertical-align: top;\n    }\n\n    .dataframe thead th {\n        text-align: right;\n    }\n</style>\n<table border=\"1\" class=\"dataframe\">\n  <thead>\n    <tr style=\"text-align: right;\">\n      <th></th>\n      <th>show_id</th>\n      <th>type</th>\n      <th>title</th>\n      <th>director</th>\n      <th>cast</th>\n      <th>country</th>\n      <th>date_added</th>\n      <th>release_year</th>\n      <th>rating</th>\n      <th>duration</th>\n      <th>listed_in</th>\n      <th>description</th>\n      <th>key_words</th>\n    </tr>\n  </thead>\n  <tbody>\n    <tr>\n      <th>0</th>\n      <td>81145628</td>\n      <td>Movie</td>\n      <td>Norm of the North: King Sized Adventure</td>\n      <td>Richard Finn, Tim Maltby</td>\n      <td>Alan Marriott, Andrew Toth, Brian Dobson, Cole...</td>\n      <td>United States, India, South Korea, China</td>\n      <td>September 9, 2019</td>\n      <td>2019</td>\n      <td>TV-PG</td>\n      <td>90 min</td>\n      <td>Children &amp; Family Movies, Comedies</td>\n      <td>Before planning an awesome wedding for his gra...</td>\n      <td>polar bear king must take back evil archaeolog...</td>\n    </tr>\n    <tr>\n      <th>1</th>\n      <td>80117401</td>\n      <td>Movie</td>\n      <td>Jandino: Whatever it Takes</td>\n      <td>NaN</td>\n      <td>Jandino Asporaat</td>\n      <td>United Kingdom</td>\n      <td>September 9, 2016</td>\n      <td>2016</td>\n      <td>TV-MA</td>\n      <td>94 min</td>\n      <td>Stand-Up Comedy</td>\n      <td>Jandino Asporaat riffs on the challenges of ra...</td>\n      <td>jandino asporaat riffs rousing rendition raisi...</td>\n    </tr>\n    <tr>\n      <th>2</th>\n      <td>70234439</td>\n      <td>TV Show</td>\n      <td>Transformers Prime</td>\n      <td>NaN</td>\n      <td>Peter Cullen, Sumalee Montano, Frank Welker, J...</td>\n      <td>United States</td>\n      <td>September 8, 2018</td>\n      <td>2013</td>\n      <td>TV-Y7-FV</td>\n      <td>1 Season</td>\n      <td>Kids' TV</td>\n      <td>With the help of three human allies, the Autob...</td>\n      <td>three human allies protect earth onslaught meg...</td>\n    </tr>\n    <tr>\n      <th>3</th>\n      <td>80058654</td>\n      <td>TV Show</td>\n      <td>Transformers: Robots in Disguise</td>\n      <td>NaN</td>\n      <td>Will Friedle, Darren Criss, Constance Zimmer, ...</td>\n      <td>United States</td>\n      <td>September 8, 2018</td>\n      <td>2016</td>\n      <td>TV-Y7</td>\n      <td>1 Season</td>\n      <td>Kids' TV</td>\n      <td>When a prison ship crash unleashes hundreds of...</td>\n      <td>prison ship crash unleashes hundreds new autob...</td>\n    </tr>\n    <tr>\n      <th>4</th>\n      <td>80125979</td>\n      <td>Movie</td>\n      <td>#realityhigh</td>\n      <td>Fernando Lebrija</td>\n      <td>Nesta Cooper, Kate Walsh, John Michael Higgins...</td>\n      <td>United States</td>\n      <td>September 8, 2017</td>\n      <td>2017</td>\n      <td>TV-14</td>\n      <td>99 min</td>\n      <td>Comedies</td>\n      <td>When nerdy high schooler Dani finally attracts...</td>\n      <td>nerdy high schooler dani finally attracts soci...</td>\n    </tr>\n    <tr>\n      <th>...</th>\n      <td>...</td>\n      <td>...</td>\n      <td>...</td>\n      <td>...</td>\n      <td>...</td>\n      <td>...</td>\n      <td>...</td>\n      <td>...</td>\n      <td>...</td>\n      <td>...</td>\n      <td>...</td>\n      <td>...</td>\n      <td>...</td>\n    </tr>\n    <tr>\n      <th>6229</th>\n      <td>80000063</td>\n      <td>TV Show</td>\n      <td>Red vs. Blue</td>\n      <td>NaN</td>\n      <td>Burnie Burns, Jason Saldaña, Gustavo Sorola, G...</td>\n      <td>United States</td>\n      <td>NaN</td>\n      <td>2015</td>\n      <td>NR</td>\n      <td>13 Seasons</td>\n      <td>TV Action &amp; Adventure, TV Comedies, TV Sci-Fi ...</td>\n      <td>This parody of first-person shooter games, mil...</td>\n      <td>person shooter games fiction films centers civ...</td>\n    </tr>\n    <tr>\n      <th>6230</th>\n      <td>70286564</td>\n      <td>TV Show</td>\n      <td>Maron</td>\n      <td>NaN</td>\n      <td>Marc Maron, Judd Hirsch, Josh Brener, Nora Zeh...</td>\n      <td>United States</td>\n      <td>NaN</td>\n      <td>2016</td>\n      <td>TV-MA</td>\n      <td>4 Seasons</td>\n      <td>TV Comedies</td>\n      <td>Marc Maron stars as Marc Maron, who interviews...</td>\n      <td>interviews fellow comedians marc maron stars m...</td>\n    </tr>\n    <tr>\n      <th>6231</th>\n      <td>80116008</td>\n      <td>Movie</td>\n      <td>Little Baby Bum: Nursery Rhyme Friends</td>\n      <td>NaN</td>\n      <td>NaN</td>\n      <td>NaN</td>\n      <td>NaN</td>\n      <td>2016</td>\n      <td>NaN</td>\n      <td>60 min</td>\n      <td>Movies</td>\n      <td>Nursery rhymes and original music for children...</td>\n      <td>playful animation engage original music nurser...</td>\n    </tr>\n    <tr>\n      <th>6232</th>\n      <td>70281022</td>\n      <td>TV Show</td>\n      <td>A Young Doctor's Notebook and Other Stories</td>\n      <td>NaN</td>\n      <td>Daniel Radcliffe, Jon Hamm, Adam Godley, Chris...</td>\n      <td>United Kingdom</td>\n      <td>NaN</td>\n      <td>2013</td>\n      <td>TV-MA</td>\n      <td>2 Seasons</td>\n      <td>British TV Shows, TV Comedies, TV Dramas</td>\n      <td>Set during the Russian Revolution, this comic ...</td>\n      <td>early career working way village russian revol...</td>\n    </tr>\n    <tr>\n      <th>6233</th>\n      <td>70153404</td>\n      <td>TV Show</td>\n      <td>Friends</td>\n      <td>NaN</td>\n      <td>Jennifer Aniston, Courteney Cox, Lisa Kudrow, ...</td>\n      <td>United States</td>\n      <td>NaN</td>\n      <td>2003</td>\n      <td>TV-14</td>\n      <td>10 Seasons</td>\n      <td>Classic &amp; Cult TV, TV Comedies</td>\n      <td>This hit sitcom follows the merry misadventure...</td>\n      <td>hit sitcom follows something pals six 20 merry...</td>\n    </tr>\n  </tbody>\n</table>\n<p>6234 rows × 13 columns</p>\n</div>"
     },
     "metadata": {},
     "execution_count": 261
    }
   ],
   "source": [
    "df['key_words']=df['key_words'].apply(cleaning_text)\n",
    "df"
   ]
  },
  {
   "source": [
    "## modeling 1: content-based recommender only based on description "
   ],
   "cell_type": "markdown",
   "metadata": {}
  },
  {
   "cell_type": "code",
   "execution_count": 262,
   "metadata": {},
   "outputs": [],
   "source": [
    "df=df[['title', 'key_words']].drop_duplicates()"
   ]
  },
  {
   "cell_type": "code",
   "execution_count": 263,
   "metadata": {},
   "outputs": [
    {
     "output_type": "execute_result",
     "data": {
      "text/plain": [
       "                                            title  \\\n",
       "0         Norm of the North: King Sized Adventure   \n",
       "1                      Jandino: Whatever it Takes   \n",
       "2                              Transformers Prime   \n",
       "3                Transformers: Robots in Disguise   \n",
       "4                                    #realityhigh   \n",
       "...                                           ...   \n",
       "6229                                 Red vs. Blue   \n",
       "6230                                        Maron   \n",
       "6231       Little Baby Bum: Nursery Rhyme Friends   \n",
       "6232  A Young Doctor's Notebook and Other Stories   \n",
       "6233                                      Friends   \n",
       "\n",
       "                                              key_words  \n",
       "0     polar bear king must take back evil archaeolog...  \n",
       "1     jandino asporaat riffs rousing rendition raisi...  \n",
       "2     three human allies protect earth onslaught meg...  \n",
       "3     prison ship crash unleashes hundreds new autob...  \n",
       "4     nerdy high schooler dani finally attracts soci...  \n",
       "...                                                 ...  \n",
       "6229  person shooter games fiction films centers civ...  \n",
       "6230  interviews fellow comedians marc maron stars m...  \n",
       "6231  playful animation engage original music nurser...  \n",
       "6232  early career working way village russian revol...  \n",
       "6233  hit sitcom follows something pals six 20 merry...  \n",
       "\n",
       "[6233 rows x 2 columns]"
      ],
      "text/html": "<div>\n<style scoped>\n    .dataframe tbody tr th:only-of-type {\n        vertical-align: middle;\n    }\n\n    .dataframe tbody tr th {\n        vertical-align: top;\n    }\n\n    .dataframe thead th {\n        text-align: right;\n    }\n</style>\n<table border=\"1\" class=\"dataframe\">\n  <thead>\n    <tr style=\"text-align: right;\">\n      <th></th>\n      <th>title</th>\n      <th>key_words</th>\n    </tr>\n  </thead>\n  <tbody>\n    <tr>\n      <th>0</th>\n      <td>Norm of the North: King Sized Adventure</td>\n      <td>polar bear king must take back evil archaeolog...</td>\n    </tr>\n    <tr>\n      <th>1</th>\n      <td>Jandino: Whatever it Takes</td>\n      <td>jandino asporaat riffs rousing rendition raisi...</td>\n    </tr>\n    <tr>\n      <th>2</th>\n      <td>Transformers Prime</td>\n      <td>three human allies protect earth onslaught meg...</td>\n    </tr>\n    <tr>\n      <th>3</th>\n      <td>Transformers: Robots in Disguise</td>\n      <td>prison ship crash unleashes hundreds new autob...</td>\n    </tr>\n    <tr>\n      <th>4</th>\n      <td>#realityhigh</td>\n      <td>nerdy high schooler dani finally attracts soci...</td>\n    </tr>\n    <tr>\n      <th>...</th>\n      <td>...</td>\n      <td>...</td>\n    </tr>\n    <tr>\n      <th>6229</th>\n      <td>Red vs. Blue</td>\n      <td>person shooter games fiction films centers civ...</td>\n    </tr>\n    <tr>\n      <th>6230</th>\n      <td>Maron</td>\n      <td>interviews fellow comedians marc maron stars m...</td>\n    </tr>\n    <tr>\n      <th>6231</th>\n      <td>Little Baby Bum: Nursery Rhyme Friends</td>\n      <td>playful animation engage original music nurser...</td>\n    </tr>\n    <tr>\n      <th>6232</th>\n      <td>A Young Doctor's Notebook and Other Stories</td>\n      <td>early career working way village russian revol...</td>\n    </tr>\n    <tr>\n      <th>6233</th>\n      <td>Friends</td>\n      <td>hit sitcom follows something pals six 20 merry...</td>\n    </tr>\n  </tbody>\n</table>\n<p>6233 rows × 2 columns</p>\n</div>"
     },
     "metadata": {},
     "execution_count": 263
    }
   ],
   "source": [
    "df"
   ]
  },
  {
   "cell_type": "code",
   "execution_count": 264,
   "metadata": {},
   "outputs": [],
   "source": [
    "df.set_index('title', inplace=True)\n"
   ]
  },
  {
   "cell_type": "code",
   "execution_count": 265,
   "metadata": {},
   "outputs": [
    {
     "output_type": "execute_result",
     "data": {
      "text/plain": [
       "                                                                                 key_words\n",
       "title                                                                                     \n",
       "Norm of the North: King Sized Adventure  polar bear king must take back evil archaeolog...\n",
       "Jandino: Whatever it Takes               jandino asporaat riffs rousing rendition raisi...\n",
       "Transformers Prime                       three human allies protect earth onslaught meg...\n",
       "Transformers: Robots in Disguise         prison ship crash unleashes hundreds new autob...\n",
       "#realityhigh                             nerdy high schooler dani finally attracts soci..."
      ],
      "text/html": "<div>\n<style scoped>\n    .dataframe tbody tr th:only-of-type {\n        vertical-align: middle;\n    }\n\n    .dataframe tbody tr th {\n        vertical-align: top;\n    }\n\n    .dataframe thead th {\n        text-align: right;\n    }\n</style>\n<table border=\"1\" class=\"dataframe\">\n  <thead>\n    <tr style=\"text-align: right;\">\n      <th></th>\n      <th>key_words</th>\n    </tr>\n    <tr>\n      <th>title</th>\n      <th></th>\n    </tr>\n  </thead>\n  <tbody>\n    <tr>\n      <th>Norm of the North: King Sized Adventure</th>\n      <td>polar bear king must take back evil archaeolog...</td>\n    </tr>\n    <tr>\n      <th>Jandino: Whatever it Takes</th>\n      <td>jandino asporaat riffs rousing rendition raisi...</td>\n    </tr>\n    <tr>\n      <th>Transformers Prime</th>\n      <td>three human allies protect earth onslaught meg...</td>\n    </tr>\n    <tr>\n      <th>Transformers: Robots in Disguise</th>\n      <td>prison ship crash unleashes hundreds new autob...</td>\n    </tr>\n    <tr>\n      <th>#realityhigh</th>\n      <td>nerdy high schooler dani finally attracts soci...</td>\n    </tr>\n  </tbody>\n</table>\n</div>"
     },
     "metadata": {},
     "execution_count": 265
    }
   ],
   "source": [
    "df.head()"
   ]
  },
  {
   "cell_type": "code",
   "execution_count": 266,
   "metadata": {},
   "outputs": [
    {
     "output_type": "execute_result",
     "data": {
      "text/plain": [
       "Index(['Norm of the North: King Sized Adventure', 'Jandino: Whatever it Takes',\n",
       "       'Transformers Prime', 'Transformers: Robots in Disguise',\n",
       "       '#realityhigh', 'Apaches', 'Automata',\n",
       "       'Fabrizio Copano: Solo pienso en mi', 'Fire Chasers', 'Good People',\n",
       "       ...\n",
       "       'Anthony Bourdain: Parts Unknown', 'Frasier', 'La Familia P. Luche',\n",
       "       'The Adventures of Figaro Pho', 'Kikoriki', 'Red vs. Blue', 'Maron',\n",
       "       'Little Baby Bum: Nursery Rhyme Friends',\n",
       "       'A Young Doctor's Notebook and Other Stories', 'Friends'],\n",
       "      dtype='object', name='title', length=6233)"
      ]
     },
     "metadata": {},
     "execution_count": 266
    }
   ],
   "source": [
    "df.index"
   ]
  },
  {
   "cell_type": "code",
   "execution_count": 267,
   "metadata": {},
   "outputs": [
    {
     "output_type": "execute_result",
     "data": {
      "text/plain": [
       "<6233x16281 sparse matrix of type '<class 'numpy.int64'>'\n",
       "\twith 90804 stored elements in Compressed Sparse Row format>"
      ]
     },
     "metadata": {},
     "execution_count": 267
    }
   ],
   "source": [
    "# Apply CountVectorizer for transformation (bag of words)\n",
    "count = CountVectorizer()\n",
    "count_matrix = count.fit_transform(df['key_words'])\n",
    "\n",
    "indices = pd.Series(df.index)\n",
    "count_matrix"
   ]
  },
  {
   "cell_type": "code",
   "execution_count": 268,
   "metadata": {},
   "outputs": [
    {
     "output_type": "execute_result",
     "data": {
      "text/plain": [
       "array([[1., 0., 0., ..., 0., 0., 0.],\n",
       "       [0., 1., 0., ..., 0., 0., 0.],\n",
       "       [0., 0., 1., ..., 0., 0., 0.],\n",
       "       ...,\n",
       "       [0., 0., 0., ..., 1., 0., 0.],\n",
       "       [0., 0., 0., ..., 0., 1., 0.],\n",
       "       [0., 0., 0., ..., 0., 0., 1.]])"
      ]
     },
     "metadata": {},
     "execution_count": 268
    }
   ],
   "source": [
    "# Create the matrix based on cosine_similarity\n",
    "cosine_sim = cosine_similarity(count_matrix, count_matrix)\n",
    "cosine_sim"
   ]
  },
  {
   "cell_type": "code",
   "execution_count": 269,
   "metadata": {},
   "outputs": [],
   "source": [
    "# function that takes in movie title as input and returns the top 10 recommended movies\n",
    "def recommendations(title, cosine_sim):\n",
    "     \n",
    "    \n",
    "    # gettin the index of the movie that matches the title\n",
    "    idx = indices[indices == title].index[0]\n",
    "\n",
    "    # creating a Series with the similarity scores in descending order\n",
    "    score_series = pd.Series(cosine_sim[idx]).sort_values(ascending = False)\n",
    "\n",
    "    # getting the indexes of the 10 most similar movies\n",
    "    top_10_indexes = (score_series[1:11].index).tolist()\n",
    "    \n",
    "    # populating the list with the titles of the best 10 matching movies\n",
    "            \n",
    "    return [df.index[i] for i in top_10_indexes]"
   ]
  },
  {
   "cell_type": "code",
   "execution_count": 271,
   "metadata": {},
   "outputs": [
    {
     "output_type": "execute_result",
     "data": {
      "text/plain": [
       "['Lechmi',\n",
       " 'Paranoid',\n",
       " 'Band Aid',\n",
       " 'Private Life',\n",
       " 'Bhoot',\n",
       " 'I Am Not Madame Bovary',\n",
       " 'Qila',\n",
       " 'Kill Me If You Dare',\n",
       " 'Luck by Chance',\n",
       " 'Blood Money']"
      ]
     },
     "metadata": {},
     "execution_count": 271
    }
   ],
   "source": [
    "# recommend top 10 movies only based on show discription\n",
    "recommendations('Good People', cosine_sim)"
   ]
  },
  {
   "source": [
    "## model 2: content-based recommender based on combined characters including director, cast, country, listed_in, description"
   ],
   "cell_type": "markdown",
   "metadata": {}
  },
  {
   "cell_type": "code",
   "execution_count": 329,
   "metadata": {},
   "outputs": [
    {
     "output_type": "execute_result",
     "data": {
      "text/plain": [
       "title           0\n",
       "director     1969\n",
       "cast          570\n",
       "country       476\n",
       "listed_in       0\n",
       "key_words       0\n",
       "dtype: int64"
      ]
     },
     "metadata": {},
     "execution_count": 329
    }
   ],
   "source": [
    "df=data[['title', 'director', 'cast', 'country', 'listed_in', 'key_words']]\n",
    "df.isnull().sum()"
   ]
  },
  {
   "cell_type": "code",
   "execution_count": 330,
   "metadata": {},
   "outputs": [
    {
     "output_type": "execute_result",
     "data": {
      "text/plain": [
       "                                     title                  director  \\\n",
       "0  Norm of the North: King Sized Adventure  Richard Finn, Tim Maltby   \n",
       "1               Jandino: Whatever it Takes                             \n",
       "2                       Transformers Prime                             \n",
       "3         Transformers: Robots in Disguise                             \n",
       "4                             #realityhigh          Fernando Lebrija   \n",
       "\n",
       "                                                cast  \\\n",
       "0  Alan Marriott, Andrew Toth, Brian Dobson, Cole...   \n",
       "1                                   Jandino Asporaat   \n",
       "2  Peter Cullen, Sumalee Montano, Frank Welker, J...   \n",
       "3  Will Friedle, Darren Criss, Constance Zimmer, ...   \n",
       "4  Nesta Cooper, Kate Walsh, John Michael Higgins...   \n",
       "\n",
       "                                    country  \\\n",
       "0  United States, India, South Korea, China   \n",
       "1                            United Kingdom   \n",
       "2                             United States   \n",
       "3                             United States   \n",
       "4                             United States   \n",
       "\n",
       "                            listed_in  \\\n",
       "0  Children & Family Movies, Comedies   \n",
       "1                     Stand-Up Comedy   \n",
       "2                            Kids' TV   \n",
       "3                            Kids' TV   \n",
       "4                            Comedies   \n",
       "\n",
       "                                           key_words  \n",
       "0  [polar bear king must take back, evil archaeol...  \n",
       "1  [jandino asporaat riffs, rousing rendition, ra...  \n",
       "2  [three human allies, protect earth, onslaught,...  \n",
       "3  [prison ship crash unleashes hundreds, new aut...  \n",
       "4  [nerdy high schooler dani finally attracts, so...  "
      ],
      "text/html": "<div>\n<style scoped>\n    .dataframe tbody tr th:only-of-type {\n        vertical-align: middle;\n    }\n\n    .dataframe tbody tr th {\n        vertical-align: top;\n    }\n\n    .dataframe thead th {\n        text-align: right;\n    }\n</style>\n<table border=\"1\" class=\"dataframe\">\n  <thead>\n    <tr style=\"text-align: right;\">\n      <th></th>\n      <th>title</th>\n      <th>director</th>\n      <th>cast</th>\n      <th>country</th>\n      <th>listed_in</th>\n      <th>key_words</th>\n    </tr>\n  </thead>\n  <tbody>\n    <tr>\n      <th>0</th>\n      <td>Norm of the North: King Sized Adventure</td>\n      <td>Richard Finn, Tim Maltby</td>\n      <td>Alan Marriott, Andrew Toth, Brian Dobson, Cole...</td>\n      <td>United States, India, South Korea, China</td>\n      <td>Children &amp; Family Movies, Comedies</td>\n      <td>[polar bear king must take back, evil archaeol...</td>\n    </tr>\n    <tr>\n      <th>1</th>\n      <td>Jandino: Whatever it Takes</td>\n      <td></td>\n      <td>Jandino Asporaat</td>\n      <td>United Kingdom</td>\n      <td>Stand-Up Comedy</td>\n      <td>[jandino asporaat riffs, rousing rendition, ra...</td>\n    </tr>\n    <tr>\n      <th>2</th>\n      <td>Transformers Prime</td>\n      <td></td>\n      <td>Peter Cullen, Sumalee Montano, Frank Welker, J...</td>\n      <td>United States</td>\n      <td>Kids' TV</td>\n      <td>[three human allies, protect earth, onslaught,...</td>\n    </tr>\n    <tr>\n      <th>3</th>\n      <td>Transformers: Robots in Disguise</td>\n      <td></td>\n      <td>Will Friedle, Darren Criss, Constance Zimmer, ...</td>\n      <td>United States</td>\n      <td>Kids' TV</td>\n      <td>[prison ship crash unleashes hundreds, new aut...</td>\n    </tr>\n    <tr>\n      <th>4</th>\n      <td>#realityhigh</td>\n      <td>Fernando Lebrija</td>\n      <td>Nesta Cooper, Kate Walsh, John Michael Higgins...</td>\n      <td>United States</td>\n      <td>Comedies</td>\n      <td>[nerdy high schooler dani finally attracts, so...</td>\n    </tr>\n  </tbody>\n</table>\n</div>"
     },
     "metadata": {},
     "execution_count": 330
    }
   ],
   "source": [
    "# fill null values \n",
    "df=df.fillna('')\n",
    "df.head(5)"
   ]
  },
  {
   "cell_type": "code",
   "execution_count": 331,
   "metadata": {},
   "outputs": [],
   "source": [
    "for col in ['director', 'cast', 'country']:\n",
    "    df[col]=df[col].map(lambda x: x.lower().split(',')[0:2])  # pick the first 2 items if there are more"
   ]
  },
  {
   "cell_type": "code",
   "execution_count": 335,
   "metadata": {},
   "outputs": [],
   "source": [
    "df['listed_in']=df['listed_in'].str.split()"
   ]
  },
  {
   "cell_type": "code",
   "execution_count": 336,
   "metadata": {},
   "outputs": [
    {
     "output_type": "execute_result",
     "data": {
      "text/plain": [
       "                                                             director  \\\n",
       "title                                                                   \n",
       "Norm of the North: King Sized Adventure      [richardfinn, timmaltby]   \n",
       "Jandino: Whatever it Takes                                         []   \n",
       "Transformers Prime                                                 []   \n",
       "Transformers: Robots in Disguise                                   []   \n",
       "#realityhigh                                        [fernandolebrija]   \n",
       "...                                                               ...   \n",
       "Red vs. Blue                                                       []   \n",
       "Maron                                                              []   \n",
       "Little Baby Bum: Nursery Rhyme Friends                             []   \n",
       "A Young Doctor's Notebook and Other Stories                        []   \n",
       "Friends                                                            []   \n",
       "\n",
       "                                                                        cast  \\\n",
       "title                                                                          \n",
       "Norm of the North: King Sized Adventure           [alanmarriott, andrewtoth]   \n",
       "Jandino: Whatever it Takes                                 [jandinoasporaat]   \n",
       "Transformers Prime                             [petercullen, sumaleemontano]   \n",
       "Transformers: Robots in Disguise                  [willfriedle, darrencriss]   \n",
       "#realityhigh                                        [nestacooper, katewalsh]   \n",
       "...                                                                      ...   \n",
       "Red vs. Blue                                     [burnieburns, jasonsaldaña]   \n",
       "Maron                                                [marcmaron, juddhirsch]   \n",
       "Little Baby Bum: Nursery Rhyme Friends                                    []   \n",
       "A Young Doctor's Notebook and Other Stories       [danielradcliffe, jonhamm]   \n",
       "Friends                                      [jenniferaniston, courteneycox]   \n",
       "\n",
       "                                                           country  \\\n",
       "title                                                                \n",
       "Norm of the North: King Sized Adventure      [unitedstates, india]   \n",
       "Jandino: Whatever it Takes                         [unitedkingdom]   \n",
       "Transformers Prime                                  [unitedstates]   \n",
       "Transformers: Robots in Disguise                    [unitedstates]   \n",
       "#realityhigh                                        [unitedstates]   \n",
       "...                                                            ...   \n",
       "Red vs. Blue                                        [unitedstates]   \n",
       "Maron                                               [unitedstates]   \n",
       "Little Baby Bum: Nursery Rhyme Friends                          []   \n",
       "A Young Doctor's Notebook and Other Stories        [unitedkingdom]   \n",
       "Friends                                             [unitedstates]   \n",
       "\n",
       "                                                                                     listed_in  \\\n",
       "title                                                                                            \n",
       "Norm of the North: King Sized Adventure               [Children, &, Family, Movies,, Comedies]   \n",
       "Jandino: Whatever it Takes                                                  [Stand-Up, Comedy]   \n",
       "Transformers Prime                                                                 [Kids', TV]   \n",
       "Transformers: Robots in Disguise                                                   [Kids', TV]   \n",
       "#realityhigh                                                                        [Comedies]   \n",
       "...                                                                                        ...   \n",
       "Red vs. Blue                                 [TV, Action, &, Adventure,, TV, Comedies,, TV,...   \n",
       "Maron                                                                           [TV, Comedies]   \n",
       "Little Baby Bum: Nursery Rhyme Friends                                                [Movies]   \n",
       "A Young Doctor's Notebook and Other Stories   [British, TV, Shows,, TV, Comedies,, TV, Dramas]   \n",
       "Friends                                                  [Classic, &, Cult, TV,, TV, Comedies]   \n",
       "\n",
       "                                                                                     key_words  \n",
       "title                                                                                           \n",
       "Norm of the North: King Sized Adventure      [polar bear king must take back, evil archaeol...  \n",
       "Jandino: Whatever it Takes                   [jandino asporaat riffs, rousing rendition, ra...  \n",
       "Transformers Prime                           [three human allies, protect earth, onslaught,...  \n",
       "Transformers: Robots in Disguise             [prison ship crash unleashes hundreds, new aut...  \n",
       "#realityhigh                                 [nerdy high schooler dani finally attracts, so...  \n",
       "...                                                                                        ...  \n",
       "Red vs. Blue                                 [person shooter games, fiction films centers, ...  \n",
       "Maron                                        [interviews fellow comedians, marc maron stars...  \n",
       "Little Baby Bum: Nursery Rhyme Friends       [playful animation engage, original music, nur...  \n",
       "A Young Doctor's Notebook and Other Stories  [early career working, way village, russian re...  \n",
       "Friends                                      [hit sitcom follows, something pals, six 20, m...  \n",
       "\n",
       "[6234 rows x 5 columns]"
      ],
      "text/html": "<div>\n<style scoped>\n    .dataframe tbody tr th:only-of-type {\n        vertical-align: middle;\n    }\n\n    .dataframe tbody tr th {\n        vertical-align: top;\n    }\n\n    .dataframe thead th {\n        text-align: right;\n    }\n</style>\n<table border=\"1\" class=\"dataframe\">\n  <thead>\n    <tr style=\"text-align: right;\">\n      <th></th>\n      <th>director</th>\n      <th>cast</th>\n      <th>country</th>\n      <th>listed_in</th>\n      <th>key_words</th>\n    </tr>\n    <tr>\n      <th>title</th>\n      <th></th>\n      <th></th>\n      <th></th>\n      <th></th>\n      <th></th>\n    </tr>\n  </thead>\n  <tbody>\n    <tr>\n      <th>Norm of the North: King Sized Adventure</th>\n      <td>[richardfinn, timmaltby]</td>\n      <td>[alanmarriott, andrewtoth]</td>\n      <td>[unitedstates, india]</td>\n      <td>[Children, &amp;, Family, Movies,, Comedies]</td>\n      <td>[polar bear king must take back, evil archaeol...</td>\n    </tr>\n    <tr>\n      <th>Jandino: Whatever it Takes</th>\n      <td>[]</td>\n      <td>[jandinoasporaat]</td>\n      <td>[unitedkingdom]</td>\n      <td>[Stand-Up, Comedy]</td>\n      <td>[jandino asporaat riffs, rousing rendition, ra...</td>\n    </tr>\n    <tr>\n      <th>Transformers Prime</th>\n      <td>[]</td>\n      <td>[petercullen, sumaleemontano]</td>\n      <td>[unitedstates]</td>\n      <td>[Kids', TV]</td>\n      <td>[three human allies, protect earth, onslaught,...</td>\n    </tr>\n    <tr>\n      <th>Transformers: Robots in Disguise</th>\n      <td>[]</td>\n      <td>[willfriedle, darrencriss]</td>\n      <td>[unitedstates]</td>\n      <td>[Kids', TV]</td>\n      <td>[prison ship crash unleashes hundreds, new aut...</td>\n    </tr>\n    <tr>\n      <th>#realityhigh</th>\n      <td>[fernandolebrija]</td>\n      <td>[nestacooper, katewalsh]</td>\n      <td>[unitedstates]</td>\n      <td>[Comedies]</td>\n      <td>[nerdy high schooler dani finally attracts, so...</td>\n    </tr>\n    <tr>\n      <th>...</th>\n      <td>...</td>\n      <td>...</td>\n      <td>...</td>\n      <td>...</td>\n      <td>...</td>\n    </tr>\n    <tr>\n      <th>Red vs. Blue</th>\n      <td>[]</td>\n      <td>[burnieburns, jasonsaldaña]</td>\n      <td>[unitedstates]</td>\n      <td>[TV, Action, &amp;, Adventure,, TV, Comedies,, TV,...</td>\n      <td>[person shooter games, fiction films centers, ...</td>\n    </tr>\n    <tr>\n      <th>Maron</th>\n      <td>[]</td>\n      <td>[marcmaron, juddhirsch]</td>\n      <td>[unitedstates]</td>\n      <td>[TV, Comedies]</td>\n      <td>[interviews fellow comedians, marc maron stars...</td>\n    </tr>\n    <tr>\n      <th>Little Baby Bum: Nursery Rhyme Friends</th>\n      <td>[]</td>\n      <td>[]</td>\n      <td>[]</td>\n      <td>[Movies]</td>\n      <td>[playful animation engage, original music, nur...</td>\n    </tr>\n    <tr>\n      <th>A Young Doctor's Notebook and Other Stories</th>\n      <td>[]</td>\n      <td>[danielradcliffe, jonhamm]</td>\n      <td>[unitedkingdom]</td>\n      <td>[British, TV, Shows,, TV, Comedies,, TV, Dramas]</td>\n      <td>[early career working, way village, russian re...</td>\n    </tr>\n    <tr>\n      <th>Friends</th>\n      <td>[]</td>\n      <td>[jenniferaniston, courteneycox]</td>\n      <td>[unitedstates]</td>\n      <td>[Classic, &amp;, Cult, TV,, TV, Comedies]</td>\n      <td>[hit sitcom follows, something pals, six 20, m...</td>\n    </tr>\n  </tbody>\n</table>\n<p>6234 rows × 5 columns</p>\n</div>"
     },
     "metadata": {},
     "execution_count": 336
    }
   ],
   "source": [
    "df"
   ]
  },
  {
   "cell_type": "code",
   "execution_count": 332,
   "metadata": {},
   "outputs": [],
   "source": [
    "# merging together first and last name to one_word for each actor, director and country\n",
    "for index, row in df.iterrows():\n",
    "    row['cast']=[x.lower().replace(' ', '') for x in row['cast']]\n",
    "    row['director']=[x.lower().replace(' ', '') for x in row['director']]\n",
    "    row['country']=[x.lower().replace(' ', '') for x in row['country']]"
   ]
  },
  {
   "cell_type": "code",
   "execution_count": 334,
   "metadata": {},
   "outputs": [],
   "source": [
    "# set 'title' as index\n",
    "df.set_index('title', inplace=True)\n"
   ]
  },
  {
   "cell_type": "code",
   "execution_count": 337,
   "metadata": {},
   "outputs": [],
   "source": [
    "# combine all the columns together into one columns-'combined_features'\n",
    "df['combined_features']=''\n",
    "for index, row in df.iterrows():\n",
    "    list=[]\n",
    "    for col in df.columns:\n",
    "        list.extend(row[col])\n",
    "    row['combined_features']=' '.join(l.lower() for l in list)\n",
    "df['combined_features']=df['combined_features'].str.replace('[^\\w\\s]','')  #remove the punctuation and number"
   ]
  },
  {
   "cell_type": "code",
   "execution_count": 340,
   "metadata": {},
   "outputs": [
    {
     "output_type": "execute_result",
     "data": {
      "text/plain": [
       "['richardfinn timmaltby alanmarriott andrewtoth unitedstates india children  family movies comedies polar bear king must take back evil archaeologist first stolen artifact awesome wedding planning grandfather',\n",
       " ' jandinoasporaat unitedkingdom standup comedy jandino asporaat riffs rousing rendition raising kids comedy show sex serenades fire challenges audience',\n",
       " ' petercullen sumaleemontano unitedstates kids tv three human allies protect earth onslaught megatron leader help decepticons autobots']"
      ]
     },
     "metadata": {},
     "execution_count": 340
    }
   ],
   "source": [
    "df['combined_features'].tolist()[0:3]"
   ]
  },
  {
   "cell_type": "code",
   "execution_count": 341,
   "metadata": {},
   "outputs": [
    {
     "output_type": "execute_result",
     "data": {
      "text/plain": [
       "combined_features    0\n",
       "dtype: int64"
      ]
     },
     "metadata": {},
     "execution_count": 341
    }
   ],
   "source": [
    "df=df[['combined_features']]\n",
    "df.isnull().sum()"
   ]
  },
  {
   "cell_type": "code",
   "execution_count": 342,
   "metadata": {},
   "outputs": [],
   "source": [
    "df.drop_duplicates(inplace=True)"
   ]
  },
  {
   "cell_type": "code",
   "execution_count": 343,
   "metadata": {},
   "outputs": [
    {
     "output_type": "execute_result",
     "data": {
      "text/plain": [
       "                                                                             combined_features\n",
       "title                                                                                         \n",
       "Norm of the North: King Sized Adventure      richardfinn timmaltby alanmarriott andrewtoth ...\n",
       "Jandino: Whatever it Takes                    jandinoasporaat unitedkingdom standup comedy ...\n",
       "Transformers Prime                            petercullen sumaleemontano unitedstates kids ...\n",
       "Transformers: Robots in Disguise              willfriedle darrencriss unitedstates kids tv ...\n",
       "#realityhigh                                 fernandolebrija nestacooper katewalsh unitedst...\n",
       "...                                                                                        ...\n",
       "Red vs. Blue                                  burnieburns jasonsaldaña unitedstates tv acti...\n",
       "Maron                                         marcmaron juddhirsch unitedstates tv comedies...\n",
       "Little Baby Bum: Nursery Rhyme Friends          movies playful animation engage original mu...\n",
       "A Young Doctor's Notebook and Other Stories   danielradcliffe jonhamm unitedkingdom british...\n",
       "Friends                                       jenniferaniston courteneycox unitedstates cla...\n",
       "\n",
       "[6227 rows x 1 columns]"
      ],
      "text/html": "<div>\n<style scoped>\n    .dataframe tbody tr th:only-of-type {\n        vertical-align: middle;\n    }\n\n    .dataframe tbody tr th {\n        vertical-align: top;\n    }\n\n    .dataframe thead th {\n        text-align: right;\n    }\n</style>\n<table border=\"1\" class=\"dataframe\">\n  <thead>\n    <tr style=\"text-align: right;\">\n      <th></th>\n      <th>combined_features</th>\n    </tr>\n    <tr>\n      <th>title</th>\n      <th></th>\n    </tr>\n  </thead>\n  <tbody>\n    <tr>\n      <th>Norm of the North: King Sized Adventure</th>\n      <td>richardfinn timmaltby alanmarriott andrewtoth ...</td>\n    </tr>\n    <tr>\n      <th>Jandino: Whatever it Takes</th>\n      <td>jandinoasporaat unitedkingdom standup comedy ...</td>\n    </tr>\n    <tr>\n      <th>Transformers Prime</th>\n      <td>petercullen sumaleemontano unitedstates kids ...</td>\n    </tr>\n    <tr>\n      <th>Transformers: Robots in Disguise</th>\n      <td>willfriedle darrencriss unitedstates kids tv ...</td>\n    </tr>\n    <tr>\n      <th>#realityhigh</th>\n      <td>fernandolebrija nestacooper katewalsh unitedst...</td>\n    </tr>\n    <tr>\n      <th>...</th>\n      <td>...</td>\n    </tr>\n    <tr>\n      <th>Red vs. Blue</th>\n      <td>burnieburns jasonsaldaña unitedstates tv acti...</td>\n    </tr>\n    <tr>\n      <th>Maron</th>\n      <td>marcmaron juddhirsch unitedstates tv comedies...</td>\n    </tr>\n    <tr>\n      <th>Little Baby Bum: Nursery Rhyme Friends</th>\n      <td>movies playful animation engage original mu...</td>\n    </tr>\n    <tr>\n      <th>A Young Doctor's Notebook and Other Stories</th>\n      <td>danielradcliffe jonhamm unitedkingdom british...</td>\n    </tr>\n    <tr>\n      <th>Friends</th>\n      <td>jenniferaniston courteneycox unitedstates cla...</td>\n    </tr>\n  </tbody>\n</table>\n<p>6227 rows × 1 columns</p>\n</div>"
     },
     "metadata": {},
     "execution_count": 343
    }
   ],
   "source": [
    "df"
   ]
  },
  {
   "cell_type": "code",
   "execution_count": 344,
   "metadata": {},
   "outputs": [
    {
     "output_type": "execute_result",
     "data": {
      "text/plain": [
       "array([[1.        , 0.        , 0.05      , ..., 0.10327956, 0.03713907,\n",
       "        0.07844645],\n",
       "       [0.        , 1.        , 0.0559017 , ..., 0.        , 0.04152274,\n",
       "        0.        ],\n",
       "       [0.05      , 0.0559017 , 1.        , ..., 0.        , 0.1392715 ,\n",
       "        0.1470871 ],\n",
       "       ...,\n",
       "       [0.10327956, 0.        , 0.        , ..., 1.        , 0.        ,\n",
       "        0.        ],\n",
       "       [0.03713907, 0.04152274, 0.1392715 , ..., 0.        , 1.        ,\n",
       "        0.25492496],\n",
       "       [0.07844645, 0.        , 0.1470871 , ..., 0.        , 0.25492496,\n",
       "        1.        ]])"
      ]
     },
     "metadata": {},
     "execution_count": 344
    }
   ],
   "source": [
    "# Applying Countvectorization transformation and Cosine_similarity \n",
    "CV=CountVectorizer()\n",
    "CV_matrix=CV.fit_transform(df['combined_features'])\n",
    "cos_sim2=cosine_similarity(CV_matrix,CV_matrix)\n",
    "cos_sim2"
   ]
  },
  {
   "cell_type": "code",
   "execution_count": 350,
   "metadata": {},
   "outputs": [
    {
     "output_type": "execute_result",
     "data": {
      "text/plain": [
       "['Blood Money',\n",
       " 'Inception',\n",
       " 'Inconceivable',\n",
       " 'Big Kill',\n",
       " 'Ninja Assassin',\n",
       " 'The Saint',\n",
       " 'The Darkest Dawn',\n",
       " 'The World Is Not Enough',\n",
       " 'The Taking of Pelham 123',\n",
       " 'Black Hawk Down']"
      ]
     },
     "metadata": {},
     "execution_count": 350
    }
   ],
   "source": [
    "recommendations('Good People', cos_sim2)"
   ]
  },
  {
   "cell_type": "code",
   "execution_count": null,
   "metadata": {},
   "outputs": [],
   "source": []
  }
 ]
}